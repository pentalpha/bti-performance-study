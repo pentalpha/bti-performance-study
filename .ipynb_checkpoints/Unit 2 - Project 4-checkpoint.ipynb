{
 "cells": [
  {
   "cell_type": "code",
   "execution_count": 1,
   "metadata": {
    "collapsed": false
   },
   "outputs": [
    {
     "name": "stdout",
     "output_type": "stream",
     "text": [
      "['Sheet1']\n"
     ]
    }
   ],
   "source": [
    "# Import pandas\n",
    "import pandas as pd\n",
    "\n",
    "# Assign spreadsheet filename: file\n",
    "file = 'imd_student_blind.xlsx'\n",
    "\n",
    "# Load spreadsheet: xl\n",
    "xl = pd.ExcelFile(file)\n",
    "\n",
    "# Print sheet names\n",
    "print(xl.sheet_names)"
   ]
  },
  {
   "cell_type": "code",
   "execution_count": 2,
   "metadata": {
    "collapsed": false
   },
   "outputs": [
    {
     "data": {
      "text/html": [
       "<div>\n",
       "<table border=\"1\" class=\"dataframe\">\n",
       "  <thead>\n",
       "    <tr style=\"text-align: right;\">\n",
       "      <th></th>\n",
       "      <th>a_ID</th>\n",
       "      <th>CEP</th>\n",
       "      <th>ano_ingresso</th>\n",
       "      <th>periodo_ingresso</th>\n",
       "      <th>status</th>\n",
       "      <th>ano_disciplina</th>\n",
       "      <th>periodo_disciplina</th>\n",
       "      <th>nota</th>\n",
       "      <th>disciplina_ID</th>\n",
       "      <th>status.disciplina</th>\n",
       "    </tr>\n",
       "  </thead>\n",
       "  <tbody>\n",
       "    <tr>\n",
       "      <th>0</th>\n",
       "      <td>0</td>\n",
       "      <td>59015430</td>\n",
       "      <td>2014</td>\n",
       "      <td>1</td>\n",
       "      <td>CANCELADO</td>\n",
       "      <td>2014</td>\n",
       "      <td>2</td>\n",
       "      <td>2.6</td>\n",
       "      <td>0</td>\n",
       "      <td>Reprovado</td>\n",
       "    </tr>\n",
       "    <tr>\n",
       "      <th>1</th>\n",
       "      <td>0</td>\n",
       "      <td>59015430</td>\n",
       "      <td>2014</td>\n",
       "      <td>1</td>\n",
       "      <td>CANCELADO</td>\n",
       "      <td>2015</td>\n",
       "      <td>1</td>\n",
       "      <td>8.0</td>\n",
       "      <td>0</td>\n",
       "      <td>Aprovado</td>\n",
       "    </tr>\n",
       "    <tr>\n",
       "      <th>2</th>\n",
       "      <td>1</td>\n",
       "      <td>59073120</td>\n",
       "      <td>2014</td>\n",
       "      <td>1</td>\n",
       "      <td>CANCELADO</td>\n",
       "      <td>2014</td>\n",
       "      <td>2</td>\n",
       "      <td>0.1</td>\n",
       "      <td>0</td>\n",
       "      <td>Reprovado</td>\n",
       "    </tr>\n",
       "    <tr>\n",
       "      <th>3</th>\n",
       "      <td>2</td>\n",
       "      <td>59072580</td>\n",
       "      <td>2014</td>\n",
       "      <td>1</td>\n",
       "      <td>ATIVO</td>\n",
       "      <td>2014</td>\n",
       "      <td>2</td>\n",
       "      <td>6.1</td>\n",
       "      <td>0</td>\n",
       "      <td>Aprovado</td>\n",
       "    </tr>\n",
       "    <tr>\n",
       "      <th>4</th>\n",
       "      <td>3</td>\n",
       "      <td>59088150</td>\n",
       "      <td>2014</td>\n",
       "      <td>1</td>\n",
       "      <td>ATIVO</td>\n",
       "      <td>2014</td>\n",
       "      <td>1</td>\n",
       "      <td>3.0</td>\n",
       "      <td>0</td>\n",
       "      <td>Reprovado</td>\n",
       "    </tr>\n",
       "  </tbody>\n",
       "</table>\n",
       "</div>"
      ],
      "text/plain": [
       "   a_ID       CEP  ano_ingresso  periodo_ingresso     status  ano_disciplina  \\\n",
       "0     0  59015430          2014                 1  CANCELADO            2014   \n",
       "1     0  59015430          2014                 1  CANCELADO            2015   \n",
       "2     1  59073120          2014                 1  CANCELADO            2014   \n",
       "3     2  59072580          2014                 1      ATIVO            2014   \n",
       "4     3  59088150          2014                 1      ATIVO            2014   \n",
       "\n",
       "   periodo_disciplina  nota  disciplina_ID status.disciplina  \n",
       "0                   2   2.6              0         Reprovado  \n",
       "1                   1   8.0              0          Aprovado  \n",
       "2                   2   0.1              0         Reprovado  \n",
       "3                   2   6.1              0          Aprovado  \n",
       "4                   1   3.0              0         Reprovado  "
      ]
     },
     "execution_count": 2,
     "metadata": {},
     "output_type": "execute_result"
    }
   ],
   "source": [
    "# Load a sheet into a DataFrame by index: df\n",
    "df = xl.parse(0)\n",
    "\n",
    "# Print the head of the DataFrame df\n",
    "df.head()"
   ]
  },
  {
   "cell_type": "code",
   "execution_count": 3,
   "metadata": {
    "collapsed": false
   },
   "outputs": [
    {
     "data": {
      "text/plain": [
       "Index(['a_ID', 'CEP', 'ano_ingresso', 'periodo_ingresso', 'status',\n",
       "       'ano_disciplina', 'periodo_disciplina', 'nota', 'disciplina_ID',\n",
       "       'status.disciplina'],\n",
       "      dtype='object')"
      ]
     },
     "execution_count": 3,
     "metadata": {},
     "output_type": "execute_result"
    }
   ],
   "source": [
    "df.columns"
   ]
  },
  {
   "cell_type": "code",
   "execution_count": 4,
   "metadata": {
    "collapsed": false
   },
   "outputs": [
    {
     "data": {
      "text/plain": [
       "(4842, 10)"
      ]
     },
     "execution_count": 4,
     "metadata": {},
     "output_type": "execute_result"
    }
   ],
   "source": [
    "df.shape"
   ]
  },
  {
   "cell_type": "code",
   "execution_count": null,
   "metadata": {
    "collapsed": true
   },
   "outputs": [],
   "source": []
  }
 ],
 "metadata": {
  "kernelspec": {
   "display_name": "Python 3",
   "language": "python",
   "name": "python3"
  },
  "language_info": {
   "codemirror_mode": {
    "name": "ipython",
    "version": 3
   },
   "file_extension": ".py",
   "mimetype": "text/x-python",
   "name": "python",
   "nbconvert_exporter": "python",
   "pygments_lexer": "ipython3",
   "version": "3.6.0"
  }
 },
 "nbformat": 4,
 "nbformat_minor": 2
}
