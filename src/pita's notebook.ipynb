{
 "cells": [
  {
   "cell_type": "markdown",
   "metadata": {},
   "source": [
    "File paths and other constants to be used throughout the notebook\n"
   ]
  },
  {
   "cell_type": "code",
   "execution_count": 3,
   "metadata": {
    "collapsed": true
   },
   "outputs": [],
   "source": [
    "#!/usr/bin/env python\n",
    "# -*- coding: utf-8 -*-\n",
    "\n",
    "excelOriginal = '../data/imd_student_blind.xlsx'\n",
    "csvOriginal = '../data/imd-student-blind.csv'"
   ]
  },
  {
   "cell_type": "markdown",
   "metadata": {},
   "source": [
    "Libraries to import and use "
   ]
  },
  {
   "cell_type": "code",
   "execution_count": 4,
   "metadata": {
    "collapsed": true
   },
   "outputs": [],
   "source": [
    "# Import pandas\n",
    "import pandas as pd\n",
    "#Import numpy\n",
    "import numpy as np"
   ]
  },
  {
   "cell_type": "markdown",
   "metadata": {},
   "source": [
    "Convert the original Microsoft Excell spreadsheet to .csv"
   ]
  },
  {
   "cell_type": "code",
   "execution_count": 4,
   "metadata": {
    "collapsed": true
   },
   "outputs": [],
   "source": [
    "# Load spreadsheet: xl\n",
    "xl = pd.ExcelFile(excelFilePath)\n",
    "\n",
    "# Convert to .csv\n",
    "df = xl.parse(0)\n",
    "df.to_csv(csvOriginal)"
   ]
  },
  {
   "cell_type": "markdown",
   "metadata": {},
   "source": [
    "Given a class, separate the students between the ones who had a good performance on it, and the ones who did not."
   ]
  },
  {
   "cell_type": "code",
   "execution_count": 37,
   "metadata": {
    "collapsed": false
   },
   "outputs": [
    {
     "name": "stdout",
     "output_type": "stream",
     "text": [
      "Using APPROVED ON FIRST TRY\n",
      "377 students did not enrolled on 5\n",
      "189 good students in discipline 5\n",
      "36.137667304015295% good students.\n",
      "\n",
      "Using APPROVED WITH SCORE >= 7\n",
      "377 students did not enrolled on 5\n",
      "91 good students in discipline 5\n",
      "17.39961759082218% good students.\n"
     ]
    }
   ],
   "source": [
    "def getDataframeForEachStudent(df, studentColumn='a_ID'):\n",
    "    students = df.groupby(df['a_ID'])\n",
    "    g = students.groups\n",
    "    studentDFs = dict()\n",
    "    for key, value in g.items():\n",
    "        studentDFs[key] = students.get_group(key)\n",
    "    return studentDFs\n",
    "\n",
    "def eraseStudentsWhoDidNotParticipateOnClass(studentsDict, classID=5, classColumn='disciplina_ID'):\n",
    "    before = len(studentsDict)\n",
    "    toErase = list()\n",
    "    for key, value in studentsDict.items():\n",
    "        enrolled = False\n",
    "        for label, row in value.iterrows():\n",
    "            if((row[classColumn] == classID) or (row[classColumn] == str(classID))):\n",
    "                enrolled = True\n",
    "                #print(\"Student \" + str(key) + \" enrolled on \" + str(classID))\n",
    "                break\n",
    "        if(not enrolled):\n",
    "            toErase.append(key)\n",
    "    for key in toErase:\n",
    "        del studentsDict[key]\n",
    "    print(str(before-len(studentsDict)) + \" students did not enrolled on \" + str(classID))\n",
    "    return studentsDict\n",
    "\n",
    "'''\n",
    "standard   The criteria to determine if a student had a good performance or not\n",
    "    'APPROVED ON FIRST TRY'\n",
    "    'APPROVED WITH SCORE >= 7'\n",
    "return     True if the student had a good performance\n",
    "'''\n",
    "def studentHadGoodPerformanceInDiscipline(studentDf, discipline=5, \n",
    "                                          standard='APPROVED WITH SCORE >= 7', \n",
    "                                          classColumn='disciplina_ID'):\n",
    "    if(standard == 'APPROVED ON FIRST TRY'):\n",
    "        attempts = 0\n",
    "        approved = False\n",
    "        for label, row in studentDf.iterrows():\n",
    "            if(row[classColumn] == discipline):\n",
    "                attempts = attempts + 1\n",
    "                if(row['status.disciplina'] == 'Aprovado'):\n",
    "                    approved = True\n",
    "        return (approved and (attempts == 1))\n",
    "    elif(standard == 'APPROVED WITH SCORE >= 7'):\n",
    "        approved = False\n",
    "        for label, row in studentDf.iterrows():\n",
    "            if(row[classColumn] == discipline):\n",
    "                if(row['status.disciplina'] == 'Aprovado'):\n",
    "                    if(row['nota'] >= 7.0):\n",
    "                        approved = True\n",
    "                        break\n",
    "        return approved\n",
    "    else:\n",
    "        return False\n",
    "\n",
    "def getGoodAndBadStudentsInDiscipline(df, discipline=5, standard='APPROVED ON FIRST TRY'):\n",
    "    studentsRaw = getDataframeForEachStudent(df)\n",
    "    students = eraseStudentsWhoDidNotParticipateOnClass(studentsRaw, classID=discipline)\n",
    "    goodStudents = list()\n",
    "    badStudents = list()\n",
    "    for key, studentDF in students.items():\n",
    "        if(studentHadGoodPerformanceInDiscipline(studentDF, standard=standard, discipline=discipline)):\n",
    "            goodStudents.append(key)\n",
    "        else:\n",
    "            badStudents.append(key)\n",
    "    print(str(len(goodStudents)) + \" good students in discipline \" + str(discipline))\n",
    "    x = len(students)\n",
    "    print(str((len(goodStudents)/x)*100) + \"% good students.\")\n",
    "    return (goodStudents, badStudents)\n",
    "\n",
    "print('Using APPROVED ON FIRST TRY')\n",
    "t = getGoodAndBadStudentsInDiscipline(df, discipline=5, standard='APPROVED ON FIRST TRY')\n",
    "print('\\nUsing APPROVED WITH SCORE >= 7')\n",
    "t2 = getGoodAndBadStudentsInDiscipline(df, discipline=5, standard='APPROVED WITH SCORE >= 7')"
   ]
  },
  {
   "cell_type": "code",
   "execution_count": 43,
   "metadata": {
    "collapsed": false
   },
   "outputs": [
    {
     "name": "stdout",
     "output_type": "stream",
     "text": [
      "7.07144872763921\n",
      "3.7228059980604886\n"
     ]
    }
   ],
   "source": [
    "def getStudentMeanScore(df, studentID, studentColumn='a_ID', columnClasses='disciplina_ID', columnValue='nota'):\n",
    "    studentDF = df[df[studentColumn] == studentID]\n",
    "    return studentDF[columnValue].mean()\n",
    "\n",
    "goodStudentsMeanSeries = pd.Series()\n",
    "badStudentsMeanSeries = pd.Series()\n",
    "for student in t[0]:\n",
    "    goodStudentsMeanSeries[str(student)] = getStudentMeanScore(df, student)\n",
    "for student in t[1]:\n",
    "    badStudentsMeanSeries[str(student)] = getStudentMeanScore(df, student)\n",
    "    \n",
    "print(goodStudentsMeanSeries.mean())\n",
    "print(badStudentsMeanSeries.mean())"
   ]
  },
  {
   "cell_type": "markdown",
   "metadata": {},
   "source": [
    "Find the classes with the highest or lowest scores for the students on a given dataset:"
   ]
  },
  {
   "cell_type": "code",
   "execution_count": 6,
   "metadata": {
    "collapsed": false
   },
   "outputs": [
    {
     "data": {
      "text/plain": [
       "disciplina_ID\n",
       "5    2.20\n",
       "3    2.90\n",
       "6    4.30\n",
       "0    5.25\n",
       "2    5.30\n",
       "4    5.95\n",
       "1    7.10\n",
       "Name: nota, dtype: float64"
      ]
     },
     "execution_count": 6,
     "metadata": {},
     "output_type": "execute_result"
    }
   ],
   "source": [
    "def getSortedDisciplines(df, columnClasses='disciplina_ID', columnValue='nota', highest=True):\n",
    "    a = df[columnValue].groupby(df[columnClasses]).median()\n",
    "    a.sort_values(ascending=(not highest), inplace=True)\n",
    "    return a\n",
    "    \n",
    "getSortedDisciplines(t, highest=False)"
   ]
  },
  {
   "cell_type": "code",
   "execution_count": null,
   "metadata": {
    "collapsed": true
   },
   "outputs": [],
   "source": []
  }
 ],
 "metadata": {
  "kernelspec": {
   "display_name": "Python 3",
   "language": "python",
   "name": "python3"
  },
  "language_info": {
   "codemirror_mode": {
    "name": "ipython",
    "version": 3
   },
   "file_extension": ".py",
   "mimetype": "text/x-python",
   "name": "python",
   "nbconvert_exporter": "python",
   "pygments_lexer": "ipython3",
   "version": "3.6.0"
  }
 },
 "nbformat": 4,
 "nbformat_minor": 2
}
