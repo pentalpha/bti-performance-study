{
 "cells": [
  {
   "cell_type": "markdown",
   "metadata": {},
   "source": [
    "File paths and other constants to be used throughout the notebook\n"
   ]
  },
  {
   "cell_type": "code",
   "execution_count": 35,
   "metadata": {
    "collapsed": true
   },
   "outputs": [],
   "source": [
    "#!/usr/bin/env python\n",
    "# -*- coding: utf-8 -*-\n",
    "\n",
    "excelOriginal = '../data/imd_student_blind.xlsx'\n",
    "csvOriginal = '../data/imd-student-blind.csv'\n",
    "csvWithNames = '../data/imd-student-blind-1.1.csv'"
   ]
  },
  {
   "cell_type": "markdown",
   "metadata": {},
   "source": [
    "Libraries to import and use "
   ]
  },
  {
   "cell_type": "code",
   "execution_count": 11,
   "metadata": {
    "collapsed": true
   },
   "outputs": [],
   "source": [
    "# Import pandas\n",
    "import pandas as pd\n",
    "#Import numpy\n",
    "import numpy as np"
   ]
  },
  {
   "cell_type": "markdown",
   "metadata": {},
   "source": [
    "Convert the original Microsoft Excell spreadsheet to .csv"
   ]
  },
  {
   "cell_type": "code",
   "execution_count": 4,
   "metadata": {
    "collapsed": true
   },
   "outputs": [],
   "source": [
    "# Load spreadsheet: xl\n",
    "xl = pd.ExcelFile(excelFilePath)\n",
    "\n",
    "# Convert to .csv\n",
    "df = xl.parse(0)\n",
    "df.to_csv(csvOriginal)"
   ]
  },
  {
   "cell_type": "markdown",
   "metadata": {},
   "source": [
    "Insert class names to the original dataset"
   ]
  },
  {
   "cell_type": "code",
   "execution_count": 36,
   "metadata": {
    "collapsed": false
   },
   "outputs": [
    {
     "name": "stdout",
     "output_type": "stream",
     "text": [
      "   Unnamed: 0  a_ID       CEP  ano_ingresso  periodo_ingresso     status  \\\n",
      "0           0     0  59015430          2014                 1  CANCELADO   \n",
      "1           1     0  59015430          2014                 1  CANCELADO   \n",
      "2           2     1  59073120          2014                 1  CANCELADO   \n",
      "3           3     2  59072580          2014                 1      ATIVO   \n",
      "4           4     3  59088150          2014                 1      ATIVO   \n",
      "\n",
      "   ano_disciplina  periodo_disciplina  nota  disciplina_ID status.disciplina  \\\n",
      "0            2014                   2   2.6              0         Reprovado   \n",
      "1            2015                   1   8.0              0          Aprovado   \n",
      "2            2014                   2   0.1              0         Reprovado   \n",
      "3            2014                   2   6.1              0          Aprovado   \n",
      "4            2014                   1   3.0              0         Reprovado   \n",
      "\n",
      "                               full-name  \n",
      "0  INTRODUÇÃO ÀS TÉCNICAS DE PROGRAMAÇÃO  \n",
      "1  INTRODUÇÃO ÀS TÉCNICAS DE PROGRAMAÇÃO  \n",
      "2  INTRODUÇÃO ÀS TÉCNICAS DE PROGRAMAÇÃO  \n",
      "3  INTRODUÇÃO ÀS TÉCNICAS DE PROGRAMAÇÃO  \n",
      "4  INTRODUÇÃO ÀS TÉCNICAS DE PROGRAMAÇÃO  \n"
     ]
    }
   ],
   "source": [
    "imdBlindTestDf = pd.read_csv(csvOriginal)\n",
    "imdBlindTestDf[\"full-name\"] = \"\"\n",
    "disciNames = [\"INTRODUÇÃO ÀS TÉCNICAS DE PROGRAMAÇÃO\",\n",
    "    \"PRÁTICAS DE LEITURA E ESCRITA EM PORTUGUÊS I\",\n",
    "    \"RESOLUÇÃO DE PROBLEMAS MATEMÁTICOS PARA TI\",\n",
    "    \"CÁLCULO DIFERENCIAL E INTEGRAL I\",\n",
    "    \"PRÁTICAS DE LEITURA E ESCRITA EM PORTUGUÊS II\",\n",
    "    \"FUNDAMENTOS MATEMÁTICOS DA COMPUTAÇÃO I\",\n",
    "    \"VETORES E GEOMETRIA ANALÍTICA\"]\n",
    "\n",
    "for i in range(0, 6):\n",
    "    discId = i\n",
    "    disciName = disciNames[i]\n",
    "    for label, row in imdBlindTestDf.iterrows():\n",
    "        if(row['disciplina_ID'] == discId):\n",
    "            imdBlindTestDf.set_value(label, 'full-name', disciName)\n",
    "print(imdBlindTestDf.head())\n",
    "imdBlindTestDf.to_csv(csvWithNames)"
   ]
  },
  {
   "cell_type": "code",
   "execution_count": null,
   "metadata": {
    "collapsed": true
   },
   "outputs": [],
   "source": []
  },
  {
   "cell_type": "code",
   "execution_count": null,
   "metadata": {
    "collapsed": true
   },
   "outputs": [],
   "source": []
  }
 ],
 "metadata": {
  "kernelspec": {
   "display_name": "Python 3",
   "language": "python",
   "name": "python3"
  },
  "language_info": {
   "codemirror_mode": {
    "name": "ipython",
    "version": 3
   },
   "file_extension": ".py",
   "mimetype": "text/x-python",
   "name": "python",
   "nbconvert_exporter": "python",
   "pygments_lexer": "ipython3",
   "version": "3.6.0"
  }
 },
 "nbformat": 4,
 "nbformat_minor": 2
}
