{
 "cells": [
  {
   "cell_type": "markdown",
   "metadata": {},
   "source": [
    "# Clustering based on academic indexs \n",
    "Ana's notebook\n",
    "\n",
    "We will calculate mc (academic index) and "
   ]
  },
  {
   "cell_type": "code",
   "execution_count": 2,
   "metadata": {
    "collapsed": false
   },
   "outputs": [
    {
     "name": "stdout",
     "output_type": "stream",
     "text": [
      "Requirement already up-to-date: scikit-learn in /home/ana/anaconda3/lib/python3.6/site-packages\r\n"
     ]
    }
   ],
   "source": [
    "!pip install -U scikit-learn\n",
    "\n",
    "from sklearn.cluster import AgglomerativeClustering, AffinityPropagation, KMeans\n",
    "\n",
    "from bokeh.plotting import figure\n",
    "from bokeh.io import output_notebook, show\n",
    "from bokeh.palettes import Set1\n",
    "\n",
    "# Import pandas as pd\n",
    "import pandas as pd\n",
    "\n",
    "#GEOCODER\n",
    "import folium\n",
    "import geocoder"
   ]
  },
  {
   "cell_type": "code",
   "execution_count": 5,
   "metadata": {
    "collapsed": false
   },
   "outputs": [],
   "source": [
    "data = pd.read_csv('../data/imd-student-blind.csv')"
   ]
  },
  {
   "cell_type": "code",
   "execution_count": null,
   "metadata": {
    "collapsed": false
   },
   "outputs": [],
   "source": [
    "data.info()"
   ]
  },
  {
   "cell_type": "code",
   "execution_count": null,
   "metadata": {
    "collapsed": false
   },
   "outputs": [],
   "source": [
    "data = data.sort_values(by='a_ID', ascending=True)\n",
    "data.head()"
   ]
  },
  {
   "cell_type": "code",
   "execution_count": null,
   "metadata": {
    "collapsed": false
   },
   "outputs": [],
   "source": [
    "students = dict()\n",
    "for index, row in data.iterrows():\n",
    "    id = row['a_ID']\n",
    "    if not id in students:\n",
    "        students[id] = []\n",
    "    students[id].append(row)"
   ]
  },
  {
   "cell_type": "code",
   "execution_count": null,
   "metadata": {
    "collapsed": true
   },
   "outputs": [],
   "source": [
    "w = [60.0, 30.0, 180.0, 90.0, 30.0, 90.0, 60.0]\n",
    "def weighted_average(grades, weights):\n",
    "    l = len(grades)\n",
    "    s = 0\n",
    "    for g in range(0, l):\n",
    "        s += grades[g]*weights[g]\n",
    "    wa = s/sum(weights)\n",
    "    return wa\n",
    "\n",
    "def get_weight(index):\n",
    "    return w[int(index)]"
   ]
  },
  {
   "cell_type": "code",
   "execution_count": null,
   "metadata": {
    "collapsed": false
   },
   "outputs": [],
   "source": [
    "def points(students):\n",
    "    p = []\n",
    "    ceps = []\n",
    "    for k, value in students.items():\n",
    "        aprv = 0.0\n",
    "        mc = 0.0\n",
    "        grades = []\n",
    "        weights = []\n",
    "        for row in value:\n",
    "            if row['status.disciplina'] == 'Aprovado':\n",
    "                grades.append(row['nota'])\n",
    "                weights.append(get_weight(row['disciplina_ID']))\n",
    "                aprv+=1.0\n",
    "        if len(grades) > 0:\n",
    "            mc = weighted_average(grades, weights)\n",
    "        if len(value) > 0:\n",
    "            aprv = aprv/len(value)\n",
    "        p.append([aprv, mc])\n",
    "        ceps.append(value[0]['CEP'])\n",
    "    return p, ceps"
   ]
  },
  {
   "cell_type": "code",
   "execution_count": null,
   "metadata": {
    "collapsed": false
   },
   "outputs": [],
   "source": [
    "n = 3 # number of clusterings\n",
    "pts, ceps = points(students)\n",
    "#clustarings = AgglomerativeClustering(n_clusters=n, linkage='average').fit(pts)\n",
    "clusterings = KMeans(n_clusters=n, random_state=0).fit(pts)"
   ]
  },
  {
   "cell_type": "code",
   "execution_count": null,
   "metadata": {
    "collapsed": false
   },
   "outputs": [],
   "source": [
    "print(len(pts))\n",
    "Set1[n]"
   ]
  },
  {
   "cell_type": "code",
   "execution_count": null,
   "metadata": {
    "collapsed": false
   },
   "outputs": [],
   "source": [
    "plot = figure(x_axis_label ='aprov (perc)', y_axis_label ='mc')\n",
    "labels = clusterings.labels_\n",
    "x_axis = [None] * n\n",
    "y_axis = [None] * n\n",
    "\n",
    "for i in range(0, n):\n",
    "    x_axis[i] = []\n",
    "    y_axis[i] = []\n",
    "    for p, l in zip(pts, labels):\n",
    "        if l == i:\n",
    "            x_axis[i].append(p[0])\n",
    "            y_axis[i].append(p[1])\n",
    "    plot.circle(x_axis[i], y_axis[i], color=Set1[n][i])\n",
    "    \n",
    "output_notebook()\n",
    "show(plot)"
   ]
  },
  {
   "cell_type": "code",
   "execution_count": null,
   "metadata": {
    "collapsed": false
   },
   "outputs": [],
   "source": [
    "mapc = [0, 30]\n",
    "zoom = 2\n",
    "colors = [\"red\", \"blue\", \"green\", \"orange\", \"gray\", \"yellow\"]\n",
    "map_students = folium.Map(location=mapc, zoom_start=zoom)\n",
    "\n",
    "for cep, label in zip(ceps, labels):\n",
    "    if cep > 0.001:\n",
    "        g = geocoder.google(str(cep))\n",
    "        lat = g.lat\n",
    "        lng = g.lng\n",
    "        print(lat, lng)\n",
    "        # eliminate items with'nan' element\n",
    "        if lat != None and lng != None: \n",
    "            folium.Marker([lat, lng], icon=folium.Icon(color=colors[label],icon='info-sign')).add_to(map_students)\n"
   ]
  },
  {
   "cell_type": "code",
   "execution_count": null,
   "metadata": {
    "collapsed": false
   },
   "outputs": [],
   "source": [
    "map_students"
   ]
  },
  {
   "cell_type": "code",
   "execution_count": null,
   "metadata": {
    "collapsed": true
   },
   "outputs": [],
   "source": []
  }
 ],
 "metadata": {
  "kernelspec": {
   "display_name": "Python 3",
   "language": "python",
   "name": "python3"
  },
  "language_info": {
   "codemirror_mode": {
    "name": "ipython",
    "version": 3
   },
   "file_extension": ".py",
   "mimetype": "text/x-python",
   "name": "python",
   "nbconvert_exporter": "python",
   "pygments_lexer": "ipython3",
   "version": "3.6.0"
  }
 },
 "nbformat": 4,
 "nbformat_minor": 2
}
