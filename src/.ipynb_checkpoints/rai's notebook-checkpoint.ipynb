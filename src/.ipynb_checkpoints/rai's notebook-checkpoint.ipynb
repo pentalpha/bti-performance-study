{
 "cells": [
  {
   "cell_type": "code",
   "execution_count": 5,
   "metadata": {},
   "outputs": [
    {
     "name": "stdout",
     "output_type": "stream",
     "text": [
      "Populating the interactive namespace from numpy and matplotlib\n"
     ]
    }
   ],
   "source": [
    "# Import pandas\n",
    "import pandas as pd\n",
    "%pylab inline\n",
    "# Assign spreadsheet filename: file\n",
    "file = '../data/imd_student_blind.xlsx'\n",
    "\n",
    "# Load spreadsheet: xl\n",
    "xl = pd.ExcelFile(file)\n",
    "\n",
    "# Load a sheet into a DataFrame by index: df\n",
    "df = xl.parse(0)"
   ]
  },
  {
   "cell_type": "markdown",
   "metadata": {},
   "source": [
    "**Todas as disciplinas** <br>\n",
    "Aprovados: 2766 (57.12%) <br>\n",
    "Reprovados: 2076 (42.88%) <br>"
   ]
  },
  {
   "cell_type": "code",
   "execution_count": 6,
   "metadata": {},
   "outputs": [
    {
     "data": {
      "text/plain": [
       "<matplotlib.axes._subplots.AxesSubplot at 0x2cbea85dfd0>"
      ]
     },
     "execution_count": 6,
     "metadata": {},
     "output_type": "execute_result"
    },
    {
     "data": {
      "image/png": "[encoded data removed]",
      "text/plain": [
       "<matplotlib.figure.Figure at 0x2cbed879d68>"
      ]
     },
     "metadata": {},
     "output_type": "display_data"
    }
   ],
   "source": [
    "#print(df['status.disciplina'].value_counts())\n",
    "df['status.disciplina'].value_counts().plot('bar')"
   ]
  },
  {
   "cell_type": "markdown",
   "metadata": {},
   "source": [
    "**Disciplina 3**<br>\n",
    "Reprovados: 334 (61.74%)<br>\n",
    "Aprovados: 207 (38.26%)<br>\n",
    "<br>\n",
    "**Disciplina 5**<br>\n",
    "Reprovado: 523 (66.80%)<br>\n",
    "Aprovados: 260 (33.20%)<br>"
   ]
  },
  {
   "cell_type": "code",
   "execution_count": 7,
   "metadata": {},
   "outputs": [
    {
     "data": {
      "text/plain": [
       "<matplotlib.axes._subplots.AxesSubplot at 0x2cbedb28a58>"
      ]
     },
     "execution_count": 7,
     "metadata": {},
     "output_type": "execute_result"
    },
    {
     "data": {
      "image/png": "[encoded data removed]",
      "text/plain": [
       "<matplotlib.figure.Figure at 0x2cbed792c18>"
      ]
     },
     "metadata": {},
     "output_type": "display_data"
    }
   ],
   "source": [
    "df1 = pd.DataFrame(df[df.disciplina_ID == 3][\"status.disciplina\"].value_counts())\n",
    "df2 = pd.DataFrame(df[df.disciplina_ID == 5][\"status.disciplina\"].value_counts())\n",
    "\n",
    "df1['Key'] = 'Disc3'\n",
    "df2['Key'] = 'Disc5'\n",
    "\n",
    "DFF = pd.concat([df1,df2],keys=['Disc3','Disc5'])\n",
    "DFF.plot(kind='bar', figsize = (14,6), title = \"Status dos alunos nas diciplinas 3 e 5\")"
   ]
  },
  {
   "cell_type": "markdown",
   "metadata": {},
   "source": [
    "Como a disciplina 5 tem uma taxa de **25.19%** de todas as reprovações dos 2 primeiros semestres então vamos trabalhar com ela"
   ]
  },
  {
   "cell_type": "code",
   "execution_count": 8,
   "metadata": {},
   "outputs": [
    {
     "data": {
      "text/plain": [
       "<matplotlib.axes._subplots.AxesSubplot at 0x2cbeddf2240>"
      ]
     },
     "execution_count": 8,
     "metadata": {},
     "output_type": "execute_result"
    },
    {
     "data": {
      "image/png": "[encoded data removed]",
      "text/plain": [
       "<matplotlib.figure.Figure at 0x2cbed879400>"
      ]
     },
     "metadata": {},
     "output_type": "display_data"
    }
   ],
   "source": [
    "pd_disc5 = pd.DataFrame(df[df.disciplina_ID == 5])\n",
    "pd_disc5[\"nota\"].plot('hist', figsize = (14,6), title = \"Notas dos alunos da disciplina 5\")"
   ]
  },
  {
   "cell_type": "code",
   "execution_count": 9,
   "metadata": {
    "collapsed": true
   },
   "outputs": [],
   "source": [
    "def tableAnalytics(mydf, idDisc): \n",
    "    pd_mydf = pd.DataFrame(mydf[mydf.disciplina_ID == idDisc])\n",
    "    reprovados, aprovados, anoSemestre, valMin, quantile1, median, quantile3, valMax, mean, variance, standardDeviation, amplitude = list(), list(), list(), list(), list(), list(), list(), list(), list(), list(), list(), list()\n",
    "    for ano in range(2014, 2017):\n",
    "        for semestre in range (1, 3):\n",
    "            pd_aux = pd_mydf[pd_mydf.periodo_disciplina == semestre][pd_mydf.ano_disciplina == ano]\n",
    "            aprovados.append(str(pd_aux['status.disciplina'].value_counts()[\"Aprovado\"])+\" (\"+str(round(pd_aux['status.disciplina'].value_counts(True)[\"Aprovado\"]*100, 2))+\"%)\")\n",
    "            reprovados.append(str(pd_aux['status.disciplina'].value_counts()[\"Reprovado\"])+\" (\"+str(round(pd_aux['status.disciplina'].value_counts(True)[\"Reprovado\"]*100, 2))+\"%)\")\n",
    "            anoSemestre.append(str(ano)+\".\"+str(semestre))\n",
    "            valMin.append(pd_aux['nota'].min())\n",
    "            quantile1.append(pd_aux['nota'].quantile(q = 0.25))\n",
    "            median.append(pd_aux['nota'].median())\n",
    "            quantile3.append(pd_aux['nota'].quantile(q = 0.75))\n",
    "            valMax.append(pd_aux['nota'].max())\n",
    "            mean.append(pd_aux['nota'].mean())\n",
    "            variance.append(pd_aux['nota'].var())\n",
    "            standardDeviation.append(pd_aux['nota'].std())\n",
    "\n",
    "    summary = pd.DataFrame({\n",
    "        '_Aprovados': aprovados,\n",
    "        '_Reprovados': reprovados,\n",
    "        'AnoSemestre' : anoSemestre, \n",
    "        'ValueMin': valMin, \n",
    "        'Quantile1':quantile1, \n",
    "        'Median': median, \n",
    "        'Quantile3': quantile3, \n",
    "        'ValueMax': valMax, \n",
    "        'Average': mean, \n",
    "        'Variance': variance, \n",
    "        'StandardDeviation': standardDeviation})\n",
    "    return summary"
   ]
  },
  {
   "cell_type": "code",
   "execution_count": 10,
   "metadata": {},
   "outputs": [
    {
     "name": "stderr",
     "output_type": "stream",
     "text": [
      "C:\\ProgramData\\Anaconda3\\lib\\site-packages\\ipykernel_launcher.py:6: UserWarning: Boolean Series key will be reindexed to match DataFrame index.\n",
      "  \n"
     ]
    },
    {
     "data": {
      "text/html": [
       "<div>\n",
       "<table border=\"1\" class=\"dataframe\">\n",
       "  <thead>\n",
       "    <tr style=\"text-align: right;\">\n",
       "      <th></th>\n",
       "      <th>AnoSemestre</th>\n",
       "      <th>Average</th>\n",
       "      <th>Median</th>\n",
       "      <th>Quantile1</th>\n",
       "      <th>Quantile3</th>\n",
       "      <th>StandardDeviation</th>\n",
       "      <th>ValueMax</th>\n",
       "      <th>ValueMin</th>\n",
       "      <th>Variance</th>\n",
       "      <th>_Aprovados</th>\n",
       "      <th>_Reprovados</th>\n",
       "    </tr>\n",
       "  </thead>\n",
       "  <tbody>\n",
       "    <tr>\n",
       "      <th>0</th>\n",
       "      <td>2014.1</td>\n",
       "      <td>4.311364</td>\n",
       "      <td>4.45</td>\n",
       "      <td>1.25</td>\n",
       "      <td>6.55</td>\n",
       "      <td>3.098778</td>\n",
       "      <td>9.8</td>\n",
       "      <td>0.0</td>\n",
       "      <td>9.602426</td>\n",
       "      <td>20 (45.45%)</td>\n",
       "      <td>24 (54.55%)</td>\n",
       "    </tr>\n",
       "    <tr>\n",
       "      <th>1</th>\n",
       "      <td>2014.2</td>\n",
       "      <td>3.495276</td>\n",
       "      <td>3.00</td>\n",
       "      <td>0.80</td>\n",
       "      <td>5.80</td>\n",
       "      <td>2.989475</td>\n",
       "      <td>10.0</td>\n",
       "      <td>0.0</td>\n",
       "      <td>8.936962</td>\n",
       "      <td>46 (36.22%)</td>\n",
       "      <td>81 (63.78%)</td>\n",
       "    </tr>\n",
       "    <tr>\n",
       "      <th>2</th>\n",
       "      <td>2015.1</td>\n",
       "      <td>3.630526</td>\n",
       "      <td>3.80</td>\n",
       "      <td>1.50</td>\n",
       "      <td>5.30</td>\n",
       "      <td>2.426366</td>\n",
       "      <td>9.1</td>\n",
       "      <td>0.0</td>\n",
       "      <td>5.887250</td>\n",
       "      <td>33 (34.74%)</td>\n",
       "      <td>62 (65.26%)</td>\n",
       "    </tr>\n",
       "    <tr>\n",
       "      <th>3</th>\n",
       "      <td>2015.2</td>\n",
       "      <td>3.815054</td>\n",
       "      <td>3.70</td>\n",
       "      <td>1.00</td>\n",
       "      <td>6.40</td>\n",
       "      <td>2.990180</td>\n",
       "      <td>10.0</td>\n",
       "      <td>0.0</td>\n",
       "      <td>8.941178</td>\n",
       "      <td>83 (44.62%)</td>\n",
       "      <td>103 (55.38%)</td>\n",
       "    </tr>\n",
       "    <tr>\n",
       "      <th>4</th>\n",
       "      <td>2016.1</td>\n",
       "      <td>2.197516</td>\n",
       "      <td>1.20</td>\n",
       "      <td>0.40</td>\n",
       "      <td>3.50</td>\n",
       "      <td>2.374762</td>\n",
       "      <td>10.0</td>\n",
       "      <td>0.0</td>\n",
       "      <td>5.639494</td>\n",
       "      <td>29 (18.01%)</td>\n",
       "      <td>132 (81.99%)</td>\n",
       "    </tr>\n",
       "    <tr>\n",
       "      <th>5</th>\n",
       "      <td>2016.2</td>\n",
       "      <td>2.595882</td>\n",
       "      <td>1.70</td>\n",
       "      <td>0.50</td>\n",
       "      <td>5.00</td>\n",
       "      <td>2.470784</td>\n",
       "      <td>10.0</td>\n",
       "      <td>0.0</td>\n",
       "      <td>6.104776</td>\n",
       "      <td>49 (28.82%)</td>\n",
       "      <td>121 (71.18%)</td>\n",
       "    </tr>\n",
       "  </tbody>\n",
       "</table>\n",
       "</div>"
      ],
      "text/plain": [
       "  AnoSemestre   Average  Median  Quantile1  Quantile3  StandardDeviation  \\\n",
       "0      2014.1  4.311364    4.45       1.25       6.55           3.098778   \n",
       "1      2014.2  3.495276    3.00       0.80       5.80           2.989475   \n",
       "2      2015.1  3.630526    3.80       1.50       5.30           2.426366   \n",
       "3      2015.2  3.815054    3.70       1.00       6.40           2.990180   \n",
       "4      2016.1  2.197516    1.20       0.40       3.50           2.374762   \n",
       "5      2016.2  2.595882    1.70       0.50       5.00           2.470784   \n",
       "\n",
       "   ValueMax  ValueMin  Variance   _Aprovados   _Reprovados  \n",
       "0       9.8       0.0  9.602426  20 (45.45%)   24 (54.55%)  \n",
       "1      10.0       0.0  8.936962  46 (36.22%)   81 (63.78%)  \n",
       "2       9.1       0.0  5.887250  33 (34.74%)   62 (65.26%)  \n",
       "3      10.0       0.0  8.941178  83 (44.62%)  103 (55.38%)  \n",
       "4      10.0       0.0  5.639494  29 (18.01%)  132 (81.99%)  \n",
       "5      10.0       0.0  6.104776  49 (28.82%)  121 (71.18%)  "
      ]
     },
     "execution_count": 10,
     "metadata": {},
     "output_type": "execute_result"
    }
   ],
   "source": [
    "tableAnalytics(df, 5) #FMC"
   ]
  },
  {
   "cell_type": "code",
   "execution_count": 19,
   "metadata": {},
   "outputs": [
    {
     "name": "stderr",
     "output_type": "stream",
     "text": [
      "C:\\ProgramData\\Anaconda3\\lib\\site-packages\\ipykernel_launcher.py:1: UserWarning: Boolean Series key will be reindexed to match DataFrame index.\n",
      "  \"\"\"Entry point for launching an IPython kernel.\n"
     ]
    },
    {
     "data": {
      "text/html": [
       "<div>\n",
       "<table border=\"1\" class=\"dataframe\">\n",
       "  <thead>\n",
       "    <tr style=\"text-align: right;\">\n",
       "      <th></th>\n",
       "      <th>a_ID</th>\n",
       "      <th>CEP</th>\n",
       "      <th>ano_ingresso</th>\n",
       "      <th>periodo_ingresso</th>\n",
       "      <th>status</th>\n",
       "      <th>ano_disciplina</th>\n",
       "      <th>periodo_disciplina</th>\n",
       "      <th>nota</th>\n",
       "      <th>disciplina_ID</th>\n",
       "      <th>status.disciplina</th>\n",
       "    </tr>\n",
       "  </thead>\n",
       "  <tbody>\n",
       "    <tr>\n",
       "      <th>33</th>\n",
       "      <td>17</td>\n",
       "      <td>59115190</td>\n",
       "      <td>2014</td>\n",
       "      <td>1</td>\n",
       "      <td>TRANCADO</td>\n",
       "      <td>2016</td>\n",
       "      <td>2</td>\n",
       "      <td>8.1</td>\n",
       "      <td>0</td>\n",
       "      <td>Aprovado</td>\n",
       "    </tr>\n",
       "    <tr>\n",
       "      <th>57</th>\n",
       "      <td>36</td>\n",
       "      <td>0</td>\n",
       "      <td>2014</td>\n",
       "      <td>1</td>\n",
       "      <td>CANCELADO</td>\n",
       "      <td>2016</td>\n",
       "      <td>2</td>\n",
       "      <td>0.0</td>\n",
       "      <td>0</td>\n",
       "      <td>Reprovado</td>\n",
       "    </tr>\n",
       "    <tr>\n",
       "      <th>61</th>\n",
       "      <td>37</td>\n",
       "      <td>59037250</td>\n",
       "      <td>2014</td>\n",
       "      <td>1</td>\n",
       "      <td>ATIVO</td>\n",
       "      <td>2016</td>\n",
       "      <td>2</td>\n",
       "      <td>0.7</td>\n",
       "      <td>0</td>\n",
       "      <td>Reprovado</td>\n",
       "    </tr>\n",
       "    <tr>\n",
       "      <th>137</th>\n",
       "      <td>91</td>\n",
       "      <td>59200000</td>\n",
       "      <td>2014</td>\n",
       "      <td>1</td>\n",
       "      <td>ATIVO</td>\n",
       "      <td>2016</td>\n",
       "      <td>2</td>\n",
       "      <td>1.8</td>\n",
       "      <td>0</td>\n",
       "      <td>Reprovado</td>\n",
       "    </tr>\n",
       "    <tr>\n",
       "      <th>152</th>\n",
       "      <td>101</td>\n",
       "      <td>58401718</td>\n",
       "      <td>2014</td>\n",
       "      <td>1</td>\n",
       "      <td>ATIVO</td>\n",
       "      <td>2016</td>\n",
       "      <td>2</td>\n",
       "      <td>1.9</td>\n",
       "      <td>0</td>\n",
       "      <td>Reprovado</td>\n",
       "    </tr>\n",
       "  </tbody>\n",
       "</table>\n",
       "</div>"
      ],
      "text/plain": [
       "     a_ID       CEP  ano_ingresso  periodo_ingresso     status  \\\n",
       "33     17  59115190          2014                 1   TRANCADO   \n",
       "57     36         0          2014                 1  CANCELADO   \n",
       "61     37  59037250          2014                 1      ATIVO   \n",
       "137    91  59200000          2014                 1      ATIVO   \n",
       "152   101  58401718          2014                 1      ATIVO   \n",
       "\n",
       "     ano_disciplina  periodo_disciplina  nota  disciplina_ID status.disciplina  \n",
       "33             2016                   2   8.1              0          Aprovado  \n",
       "57             2016                   2   0.0              0         Reprovado  \n",
       "61             2016                   2   0.7              0         Reprovado  \n",
       "137            2016                   2   1.8              0         Reprovado  \n",
       "152            2016                   2   1.9              0         Reprovado  "
      ]
     },
     "execution_count": 19,
     "metadata": {},
     "output_type": "execute_result"
    }
   ],
   "source": [
    "df[df.ano_disciplina == 2016][df.periodo_disciplina == 2].head()"
   ]
  },
  {
   "cell_type": "code",
   "execution_count": 33,
   "metadata": {},
   "outputs": [
    {
     "name": "stderr",
     "output_type": "stream",
     "text": [
      "C:\\ProgramData\\Anaconda3\\lib\\site-packages\\ipykernel_launcher.py:3: UserWarning: Boolean Series key will be reindexed to match DataFrame index.\n",
      "  This is separate from the ipykernel package so we can avoid doing imports until\n",
      "C:\\ProgramData\\Anaconda3\\lib\\site-packages\\ipykernel_launcher.py:4: UserWarning: Boolean Series key will be reindexed to match DataFrame index.\n",
      "  after removing the cwd from sys.path.\n"
     ]
    },
    {
     "data": {
      "text/html": [
       "<div>\n",
       "<table border=\"1\" class=\"dataframe\">\n",
       "  <thead>\n",
       "    <tr style=\"text-align: right;\">\n",
       "      <th></th>\n",
       "      <th>_Aprovados</th>\n",
       "      <th>_Reprovados</th>\n",
       "      <th>idDisc</th>\n",
       "    </tr>\n",
       "  </thead>\n",
       "  <tbody>\n",
       "    <tr>\n",
       "      <th>0</th>\n",
       "      <td>56 (40.58%)</td>\n",
       "      <td>82 (59.42%)</td>\n",
       "      <td>0</td>\n",
       "    </tr>\n",
       "    <tr>\n",
       "      <th>1</th>\n",
       "      <td>219 (85.55%)</td>\n",
       "      <td>37 (14.45%)</td>\n",
       "      <td>1</td>\n",
       "    </tr>\n",
       "    <tr>\n",
       "      <th>2</th>\n",
       "      <td>91 (36.11%)</td>\n",
       "      <td>161 (63.89%)</td>\n",
       "      <td>2</td>\n",
       "    </tr>\n",
       "    <tr>\n",
       "      <th>3</th>\n",
       "      <td>26 (20.16%)</td>\n",
       "      <td>103 (79.84%)</td>\n",
       "      <td>3</td>\n",
       "    </tr>\n",
       "    <tr>\n",
       "      <th>4</th>\n",
       "      <td>96 (82.76%)</td>\n",
       "      <td>20 (17.24%)</td>\n",
       "      <td>4</td>\n",
       "    </tr>\n",
       "    <tr>\n",
       "      <th>5</th>\n",
       "      <td>29 (18.01%)</td>\n",
       "      <td>132 (81.99%)</td>\n",
       "      <td>5</td>\n",
       "    </tr>\n",
       "    <tr>\n",
       "      <th>6</th>\n",
       "      <td>41 (30.83%)</td>\n",
       "      <td>92 (69.17%)</td>\n",
       "      <td>6</td>\n",
       "    </tr>\n",
       "  </tbody>\n",
       "</table>\n",
       "</div>"
      ],
      "text/plain": [
       "     _Aprovados   _Reprovados  idDisc\n",
       "0   56 (40.58%)   82 (59.42%)       0\n",
       "1  219 (85.55%)   37 (14.45%)       1\n",
       "2   91 (36.11%)  161 (63.89%)       2\n",
       "3   26 (20.16%)  103 (79.84%)       3\n",
       "4   96 (82.76%)   20 (17.24%)       4\n",
       "5   29 (18.01%)  132 (81.99%)       5\n",
       "6   41 (30.83%)   92 (69.17%)       6"
      ]
     },
     "execution_count": 33,
     "metadata": {},
     "output_type": "execute_result"
    }
   ],
   "source": [
    "idDisc, aprovados, reprovados = list(), list(), list()\n",
    "for i in range(0, 7):\n",
    "    aprovados.append(str(df[df.ano_disciplina == 2016][df.periodo_disciplina == 1][df.disciplina_ID == i][\"status.disciplina\"].value_counts()[\"Aprovado\"])+\" (\"+str(round(df[df.ano_disciplina == 2016][df.periodo_disciplina == 1][df.disciplina_ID == i][\"status.disciplina\"].value_counts(True)[\"Aprovado\"]*100, 2))+\"%)\")\n",
    "    reprovados.append(str(df[df.ano_disciplina == 2016][df.periodo_disciplina == 1][df.disciplina_ID == i][\"status.disciplina\"].value_counts()[\"Reprovado\"])+\" (\"+str(round(df[df.ano_disciplina == 2016][df.periodo_disciplina == 1][df.disciplina_ID == i][\"status.disciplina\"].value_counts(True)[\"Reprovado\"]*100, 2))+\"%)\")\n",
    "    idDisc.append(i)\n",
    "    \n",
    "comparacao = pd.DataFrame({\n",
    "        '_Aprovados': aprovados,\n",
    "        '_Reprovados': reprovados,\n",
    "        'idDisc' : idDisc})\n",
    "comparacao"
   ]
  },
  {
   "cell_type": "code",
   "execution_count": 35,
   "metadata": {},
   "outputs": [
    {
     "name": "stderr",
     "output_type": "stream",
     "text": [
      "C:\\ProgramData\\Anaconda3\\lib\\site-packages\\ipykernel_launcher.py:3: UserWarning: Boolean Series key will be reindexed to match DataFrame index.\n",
      "  This is separate from the ipykernel package so we can avoid doing imports until\n",
      "C:\\ProgramData\\Anaconda3\\lib\\site-packages\\ipykernel_launcher.py:4: UserWarning: Boolean Series key will be reindexed to match DataFrame index.\n",
      "  after removing the cwd from sys.path.\n"
     ]
    },
    {
     "data": {
      "text/html": [
       "<div>\n",
       "<table border=\"1\" class=\"dataframe\">\n",
       "  <thead>\n",
       "    <tr style=\"text-align: right;\">\n",
       "      <th></th>\n",
       "      <th>_Aprovados</th>\n",
       "      <th>_Reprovados</th>\n",
       "      <th>idDisc</th>\n",
       "    </tr>\n",
       "  </thead>\n",
       "  <tbody>\n",
       "    <tr>\n",
       "      <th>0</th>\n",
       "      <td>90 (59.6%)</td>\n",
       "      <td>61 (40.4%)</td>\n",
       "      <td>0</td>\n",
       "    </tr>\n",
       "    <tr>\n",
       "      <th>1</th>\n",
       "      <td>26 (83.87%)</td>\n",
       "      <td>5 (16.13%)</td>\n",
       "      <td>1</td>\n",
       "    </tr>\n",
       "    <tr>\n",
       "      <th>2</th>\n",
       "      <td>47 (40.87%)</td>\n",
       "      <td>68 (59.13%)</td>\n",
       "      <td>2</td>\n",
       "    </tr>\n",
       "    <tr>\n",
       "      <th>3</th>\n",
       "      <td>69 (47.92%)</td>\n",
       "      <td>75 (52.08%)</td>\n",
       "      <td>3</td>\n",
       "    </tr>\n",
       "    <tr>\n",
       "      <th>4</th>\n",
       "      <td>156 (80.41%)</td>\n",
       "      <td>38 (19.59%)</td>\n",
       "      <td>4</td>\n",
       "    </tr>\n",
       "    <tr>\n",
       "      <th>5</th>\n",
       "      <td>49 (28.82%)</td>\n",
       "      <td>121 (71.18%)</td>\n",
       "      <td>5</td>\n",
       "    </tr>\n",
       "    <tr>\n",
       "      <th>6</th>\n",
       "      <td>54 (38.3%)</td>\n",
       "      <td>87 (61.7%)</td>\n",
       "      <td>6</td>\n",
       "    </tr>\n",
       "  </tbody>\n",
       "</table>\n",
       "</div>"
      ],
      "text/plain": [
       "     _Aprovados   _Reprovados  idDisc\n",
       "0    90 (59.6%)    61 (40.4%)       0\n",
       "1   26 (83.87%)    5 (16.13%)       1\n",
       "2   47 (40.87%)   68 (59.13%)       2\n",
       "3   69 (47.92%)   75 (52.08%)       3\n",
       "4  156 (80.41%)   38 (19.59%)       4\n",
       "5   49 (28.82%)  121 (71.18%)       5\n",
       "6    54 (38.3%)    87 (61.7%)       6"
      ]
     },
     "execution_count": 35,
     "metadata": {},
     "output_type": "execute_result"
    }
   ],
   "source": [
    "idDisc, aprovados, reprovados = list(), list(), list()\n",
    "for i in range(0, 7):\n",
    "    aprovados.append(str(df[df.ano_disciplina == 2016][df.periodo_disciplina == 2][df.disciplina_ID == i][\"status.disciplina\"].value_counts()[\"Aprovado\"])+\" (\"+str(round(df[df.ano_disciplina == 2016][df.periodo_disciplina == 2][df.disciplina_ID == i][\"status.disciplina\"].value_counts(True)[\"Aprovado\"]*100, 2))+\"%)\")\n",
    "    reprovados.append(str(df[df.ano_disciplina == 2016][df.periodo_disciplina == 2][df.disciplina_ID == i][\"status.disciplina\"].value_counts()[\"Reprovado\"])+\" (\"+str(round(df[df.ano_disciplina == 2016][df.periodo_disciplina == 2][df.disciplina_ID == i][\"status.disciplina\"].value_counts(True)[\"Reprovado\"]*100, 2))+\"%)\")\n",
    "    idDisc.append(i)\n",
    "    \n",
    "comparacao2 = pd.DataFrame({\n",
    "        '_Aprovados': aprovados,\n",
    "        '_Reprovados': reprovados,\n",
    "        'idDisc' : idDisc})\n",
    "comparacao2"
   ]
  },
  {
   "cell_type": "markdown",
   "metadata": {},
   "source": [
    "**[34, -193, -44, 43, 60, 20, 13]** Aumento das aprovações de 2016.1 para 2016.2 <br>\n",
    "**[13, -225, -137, 15, 78, 9, 8]** Quantidade de alunos a mais no segundo semestre <br>\n",
    "## \\/ \\/ \\/ Código será feito bonitinho :3 \\/ \\/ \\/"
   ]
  },
  {
   "cell_type": "code",
   "execution_count": 47,
   "metadata": {},
   "outputs": [
    {
     "name": "stdout",
     "output_type": "stream",
     "text": [
      "   _Aprovados  _Reprovados  idDisc  totalAlunos\n",
      "0          56           82       0          138\n",
      "1         219           37       1          256\n",
      "2          91          161       2          252\n",
      "3          26          103       3          129\n",
      "4          96           20       4          116\n",
      "5          29          132       5          161\n",
      "6          41           92       6          133\n",
      "   _Aprovados  _Reprovados  idDisc  totalAlunos\n",
      "0          90           61       0          151\n",
      "1          26            5       1           31\n",
      "2          47           68       2          115\n",
      "3          69           75       3          144\n",
      "4         156           38       4          194\n",
      "5          49          121       5          170\n",
      "6          54           87       6          141\n",
      "[13, -225, -137, 15, 78, 9, 8]\n"
     ]
    },
    {
     "name": "stderr",
     "output_type": "stream",
     "text": [
      "C:\\ProgramData\\Anaconda3\\lib\\site-packages\\ipykernel_launcher.py:3: UserWarning: Boolean Series key will be reindexed to match DataFrame index.\n",
      "  This is separate from the ipykernel package so we can avoid doing imports until\n",
      "C:\\ProgramData\\Anaconda3\\lib\\site-packages\\ipykernel_launcher.py:4: UserWarning: Boolean Series key will be reindexed to match DataFrame index.\n",
      "  after removing the cwd from sys.path.\n",
      "C:\\ProgramData\\Anaconda3\\lib\\site-packages\\ipykernel_launcher.py:6: UserWarning: Boolean Series key will be reindexed to match DataFrame index.\n",
      "  \n",
      "C:\\ProgramData\\Anaconda3\\lib\\site-packages\\ipykernel_launcher.py:17: UserWarning: Boolean Series key will be reindexed to match DataFrame index.\n",
      "C:\\ProgramData\\Anaconda3\\lib\\site-packages\\ipykernel_launcher.py:18: UserWarning: Boolean Series key will be reindexed to match DataFrame index.\n",
      "C:\\ProgramData\\Anaconda3\\lib\\site-packages\\ipykernel_launcher.py:20: UserWarning: Boolean Series key will be reindexed to match DataFrame index.\n"
     ]
    }
   ],
   "source": [
    "idDisc, aprovados, reprovados, total = list(), list(), list(), list()\n",
    "for i in range(0, 7):\n",
    "    aprovados.append(df[df.ano_disciplina == 2016][df.periodo_disciplina == 1][df.disciplina_ID == i][\"status.disciplina\"].value_counts()[\"Aprovado\"])\n",
    "    reprovados.append(df[df.ano_disciplina == 2016][df.periodo_disciplina == 1][df.disciplina_ID == i][\"status.disciplina\"].value_counts()[\"Reprovado\"])\n",
    "    idDisc.append(i)\n",
    "    total.append(df[df.ano_disciplina == 2016][df.periodo_disciplina == 1][df.disciplina_ID == i][\"status.disciplina\"].value_counts()[\"Aprovado\"] + df[df.ano_disciplina == 2016][df.periodo_disciplina == 1][df.disciplina_ID == i][\"status.disciplina\"].value_counts()[\"Reprovado\"])\n",
    "    \n",
    "comparacao = pd.DataFrame({\n",
    "        '_Aprovados': aprovados,\n",
    "        '_Reprovados': reprovados,\n",
    "        'totalAlunos': total, \n",
    "        'idDisc' : idDisc})\n",
    "print(comparacao)\n",
    "\n",
    "idDisc, aprovados, reprovados, total = list(), list(), list(), list()\n",
    "for i in range(0, 7):\n",
    "    aprovados.append(df[df.ano_disciplina == 2016][df.periodo_disciplina == 2][df.disciplina_ID == i][\"status.disciplina\"].value_counts()[\"Aprovado\"])\n",
    "    reprovados.append(df[df.ano_disciplina == 2016][df.periodo_disciplina == 2][df.disciplina_ID == i][\"status.disciplina\"].value_counts()[\"Reprovado\"])\n",
    "    idDisc.append(i)\n",
    "    total.append(df[df.ano_disciplina == 2016][df.periodo_disciplina == 2][df.disciplina_ID == i][\"status.disciplina\"].value_counts()[\"Aprovado\"] + df[df.ano_disciplina == 2016][df.periodo_disciplina == 2][df.disciplina_ID == i][\"status.disciplina\"].value_counts()[\"Reprovado\"])\n",
    "    \n",
    "comparacao2 = pd.DataFrame({\n",
    "        '_Aprovados': aprovados,\n",
    "        '_Reprovados': reprovados,\n",
    "        'totalAlunos': total, \n",
    "        'idDisc' : idDisc})\n",
    "print(comparacao2)\n",
    "\n",
    "\n",
    "decaimento = list()\n",
    "for i in range(0,7):\n",
    "    decaimento.append(comparacao2.totalAlunos[i] - comparacao.totalAlunos[i])\n",
    "print(decaimento)"
   ]
  }
 ],
 "metadata": {
  "kernelspec": {
   "display_name": "Python 3",
   "language": "python",
   "name": "python3"
  },
  "language_info": {
   "codemirror_mode": {
    "name": "ipython",
    "version": 3
   },
   "file_extension": ".py",
   "mimetype": "text/x-python",
   "name": "python",
   "nbconvert_exporter": "python",
   "pygments_lexer": "ipython3",
   "version": "3.6.1"
  }
 },
 "nbformat": 4,
 "nbformat_minor": 2
}
