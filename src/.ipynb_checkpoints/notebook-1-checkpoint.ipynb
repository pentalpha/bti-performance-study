{
 "cells": [
  {
   "cell_type": "code",
   "execution_count": 213,
   "metadata": {
    "collapsed": false
   },
   "outputs": [
    {
     "name": "stdout",
     "output_type": "stream",
     "text": [
      "Populating the interactive namespace from numpy and matplotlib\n"
     ]
    }
   ],
   "source": [
    "# Import pandas\n",
    "import warnings\n",
    "warnings.filterwarnings('ignore')\n",
    "import pandas as pd\n",
    "%pylab inline\n",
    "# Assign spreadsheet filename: file\n",
    "file = '../data/imd_student_blind.xlsx'\n",
    "\n",
    "# Load spreadsheet: xl\n",
    "xl = pd.ExcelFile(file)\n",
    "\n",
    "# Load a sheet into a DataFrame by index: df\n",
    "df = xl.parse(0)"
   ]
  },
  {
   "cell_type": "markdown",
   "metadata": {},
   "source": [
    "**Todas as disciplinas** <br>\n",
    "Aprovados: 2766 (57.12%) <br>\n",
    "Reprovados: 2076 (42.88%) <br>"
   ]
  },
  {
   "cell_type": "code",
   "execution_count": 214,
   "metadata": {
    "collapsed": false
   },
   "outputs": [
    {
     "data": {
      "text/plain": [
       "<matplotlib.axes._subplots.AxesSubplot at 0x1779accce10>"
      ]
     },
     "execution_count": 214,
     "metadata": {},
     "output_type": "execute_result"
    },
    {
     "data": {
      "image/png": "[encoded data removed]",
      "text/plain": [
       "<matplotlib.figure.Figure at 0x1779d851390>"
      ]
     },
     "metadata": {},
     "output_type": "display_data"
    }
   ],
   "source": [
    "#print(df['status.disciplina'].value_counts())\n",
    "df['status.disciplina'].value_counts().plot('bar')"
   ]
  },
  {
   "cell_type": "markdown",
   "metadata": {},
   "source": [
    "**Disciplina 3**<br>\n",
    "Reprovados: 334 (61.74%)<br>\n",
    "Aprovados: 207 (38.26%)<br>\n",
    "<br>\n",
    "**Disciplina 5**<br>\n",
    "Reprovado: 523 (66.80%)<br>\n",
    "Aprovados: 260 (33.20%)<br>"
   ]
  },
  {
   "cell_type": "code",
   "execution_count": 215,
   "metadata": {
    "collapsed": false
   },
   "outputs": [
    {
     "data": {
      "text/plain": [
       "<matplotlib.axes._subplots.AxesSubplot at 0x1779823e198>"
      ]
     },
     "execution_count": 215,
     "metadata": {},
     "output_type": "execute_result"
    },
    {
     "data": {
      "image/png": "[encoded data removed]",
      "text/plain": [
       "<matplotlib.figure.Figure at 0x1779daddb70>"
      ]
     },
     "metadata": {},
     "output_type": "display_data"
    }
   ],
   "source": [
    "df1 = pd.DataFrame(df[df.disciplina_ID == 3][\"status.disciplina\"].value_counts())\n",
    "df2 = pd.DataFrame(df[df.disciplina_ID == 5][\"status.disciplina\"].value_counts())\n",
    "\n",
    "df1['Key'] = 'Disc3'\n",
    "df2['Key'] = 'Disc5'\n",
    "\n",
    "DFF = pd.concat([df1,df2],keys=['Disc3','Disc5'])\n",
    "DFF.plot(kind='bar', figsize = (14,6), title = \"Status dos alunos nas diciplinas 3 e 5\")"
   ]
  },
  {
   "cell_type": "markdown",
   "metadata": {},
   "source": [
    "Como a disciplina 5 tem uma taxa de **25.19%** de todas as reprovações dos 2 primeiros semestres então vamos trabalhar com ela"
   ]
  },
  {
   "cell_type": "code",
   "execution_count": 216,
   "metadata": {
    "collapsed": false
   },
   "outputs": [
    {
     "data": {
      "text/plain": [
       "<matplotlib.axes._subplots.AxesSubplot at 0x177981108d0>"
      ]
     },
     "execution_count": 216,
     "metadata": {},
     "output_type": "execute_result"
    },
    {
     "data": {
      "image/png": "[encoded data removed]",
      "text/plain": [
       "<matplotlib.figure.Figure at 0x1779dac1828>"
      ]
     },
     "metadata": {},
     "output_type": "display_data"
    }
   ],
   "source": [
    "pd_disc5 = pd.DataFrame(df[df.disciplina_ID == 5])\n",
    "pd_disc5[\"nota\"].plot('hist', figsize = (14,6), title = \"Notas dos alunos da disciplina 5\")"
   ]
  },
  {
   "cell_type": "code",
   "execution_count": 217,
   "metadata": {
    "collapsed": true
   },
   "outputs": [],
   "source": [
    "def tableAnalytics(mydf, idDisc): \n",
    "    pd_mydf = pd.DataFrame(mydf[mydf.disciplina_ID == idDisc])\n",
    "    reprovados, aprovados, anoSemestre, valMin, quantile1, median, quantile3, valMax, mean, variance, standardDeviation, amplitude = list(), list(), list(), list(), list(), list(), list(), list(), list(), list(), list(), list()\n",
    "    for ano in range(2014, 2017):\n",
    "        for semestre in range (1, 3):\n",
    "            pd_aux = pd_mydf[pd_mydf.periodo_disciplina == semestre][pd_mydf.ano_disciplina == ano]\n",
    "            aprovados.append(str(pd_aux['status.disciplina'].value_counts()[\"Aprovado\"])+\" (\"+str(round(pd_aux['status.disciplina'].value_counts(True)[\"Aprovado\"]*100, 2))+\"%)\")\n",
    "            reprovados.append(str(pd_aux['status.disciplina'].value_counts()[\"Reprovado\"])+\" (\"+str(round(pd_aux['status.disciplina'].value_counts(True)[\"Reprovado\"]*100, 2))+\"%)\")\n",
    "            anoSemestre.append(str(ano)+\".\"+str(semestre))\n",
    "            valMin.append(pd_aux['nota'].min())\n",
    "            quantile1.append(pd_aux['nota'].quantile(q = 0.25))\n",
    "            median.append(pd_aux['nota'].median())\n",
    "            quantile3.append(pd_aux['nota'].quantile(q = 0.75))\n",
    "            valMax.append(pd_aux['nota'].max())\n",
    "            mean.append(pd_aux['nota'].mean())\n",
    "            variance.append(pd_aux['nota'].var())\n",
    "            standardDeviation.append(pd_aux['nota'].std())\n",
    "\n",
    "    summary = pd.DataFrame({\n",
    "        '_Aprovados': aprovados,\n",
    "        '_Reprovados': reprovados,\n",
    "        'AnoSemestre' : anoSemestre, \n",
    "        'ValueMin': valMin, \n",
    "        'Quantile1':quantile1, \n",
    "        'Median': median, \n",
    "        'Quantile3': quantile3, \n",
    "        'ValueMax': valMax, \n",
    "        'Average': mean, \n",
    "        'Variance': variance, \n",
    "        'StandardDeviation': standardDeviation})\n",
    "    return summary"
   ]
  },
  {
   "cell_type": "code",
   "execution_count": 218,
   "metadata": {
    "collapsed": false
   },
   "outputs": [
    {
     "data": {
      "text/html": [
       "<div>\n",
       "<table border=\"1\" class=\"dataframe\">\n",
       "  <thead>\n",
       "    <tr style=\"text-align: right;\">\n",
       "      <th></th>\n",
       "      <th>AnoSemestre</th>\n",
       "      <th>Average</th>\n",
       "      <th>Median</th>\n",
       "      <th>Quantile1</th>\n",
       "      <th>Quantile3</th>\n",
       "      <th>StandardDeviation</th>\n",
       "      <th>ValueMax</th>\n",
       "      <th>ValueMin</th>\n",
       "      <th>Variance</th>\n",
       "      <th>_Aprovados</th>\n",
       "      <th>_Reprovados</th>\n",
       "    </tr>\n",
       "  </thead>\n",
       "  <tbody>\n",
       "    <tr>\n",
       "      <th>0</th>\n",
       "      <td>2014.1</td>\n",
       "      <td>4.311364</td>\n",
       "      <td>4.45</td>\n",
       "      <td>1.25</td>\n",
       "      <td>6.55</td>\n",
       "      <td>3.098778</td>\n",
       "      <td>9.8</td>\n",
       "      <td>0.0</td>\n",
       "      <td>9.602426</td>\n",
       "      <td>20 (45.45%)</td>\n",
       "      <td>24 (54.55%)</td>\n",
       "    </tr>\n",
       "    <tr>\n",
       "      <th>1</th>\n",
       "      <td>2014.2</td>\n",
       "      <td>3.495276</td>\n",
       "      <td>3.00</td>\n",
       "      <td>0.80</td>\n",
       "      <td>5.80</td>\n",
       "      <td>2.989475</td>\n",
       "      <td>10.0</td>\n",
       "      <td>0.0</td>\n",
       "      <td>8.936962</td>\n",
       "      <td>46 (36.22%)</td>\n",
       "      <td>81 (63.78%)</td>\n",
       "    </tr>\n",
       "    <tr>\n",
       "      <th>2</th>\n",
       "      <td>2015.1</td>\n",
       "      <td>3.630526</td>\n",
       "      <td>3.80</td>\n",
       "      <td>1.50</td>\n",
       "      <td>5.30</td>\n",
       "      <td>2.426366</td>\n",
       "      <td>9.1</td>\n",
       "      <td>0.0</td>\n",
       "      <td>5.887250</td>\n",
       "      <td>33 (34.74%)</td>\n",
       "      <td>62 (65.26%)</td>\n",
       "    </tr>\n",
       "    <tr>\n",
       "      <th>3</th>\n",
       "      <td>2015.2</td>\n",
       "      <td>3.815054</td>\n",
       "      <td>3.70</td>\n",
       "      <td>1.00</td>\n",
       "      <td>6.40</td>\n",
       "      <td>2.990180</td>\n",
       "      <td>10.0</td>\n",
       "      <td>0.0</td>\n",
       "      <td>8.941178</td>\n",
       "      <td>83 (44.62%)</td>\n",
       "      <td>103 (55.38%)</td>\n",
       "    </tr>\n",
       "    <tr>\n",
       "      <th>4</th>\n",
       "      <td>2016.1</td>\n",
       "      <td>2.197516</td>\n",
       "      <td>1.20</td>\n",
       "      <td>0.40</td>\n",
       "      <td>3.50</td>\n",
       "      <td>2.374762</td>\n",
       "      <td>10.0</td>\n",
       "      <td>0.0</td>\n",
       "      <td>5.639494</td>\n",
       "      <td>29 (18.01%)</td>\n",
       "      <td>132 (81.99%)</td>\n",
       "    </tr>\n",
       "    <tr>\n",
       "      <th>5</th>\n",
       "      <td>2016.2</td>\n",
       "      <td>2.595882</td>\n",
       "      <td>1.70</td>\n",
       "      <td>0.50</td>\n",
       "      <td>5.00</td>\n",
       "      <td>2.470784</td>\n",
       "      <td>10.0</td>\n",
       "      <td>0.0</td>\n",
       "      <td>6.104776</td>\n",
       "      <td>49 (28.82%)</td>\n",
       "      <td>121 (71.18%)</td>\n",
       "    </tr>\n",
       "  </tbody>\n",
       "</table>\n",
       "</div>"
      ],
      "text/plain": [
       "  AnoSemestre   Average  Median  Quantile1  Quantile3  StandardDeviation  \\\n",
       "0      2014.1  4.311364    4.45       1.25       6.55           3.098778   \n",
       "1      2014.2  3.495276    3.00       0.80       5.80           2.989475   \n",
       "2      2015.1  3.630526    3.80       1.50       5.30           2.426366   \n",
       "3      2015.2  3.815054    3.70       1.00       6.40           2.990180   \n",
       "4      2016.1  2.197516    1.20       0.40       3.50           2.374762   \n",
       "5      2016.2  2.595882    1.70       0.50       5.00           2.470784   \n",
       "\n",
       "   ValueMax  ValueMin  Variance   _Aprovados   _Reprovados  \n",
       "0       9.8       0.0  9.602426  20 (45.45%)   24 (54.55%)  \n",
       "1      10.0       0.0  8.936962  46 (36.22%)   81 (63.78%)  \n",
       "2       9.1       0.0  5.887250  33 (34.74%)   62 (65.26%)  \n",
       "3      10.0       0.0  8.941178  83 (44.62%)  103 (55.38%)  \n",
       "4      10.0       0.0  5.639494  29 (18.01%)  132 (81.99%)  \n",
       "5      10.0       0.0  6.104776  49 (28.82%)  121 (71.18%)  "
      ]
     },
     "execution_count": 218,
     "metadata": {},
     "output_type": "execute_result"
    }
   ],
   "source": [
    "tableAnalytics(df, 5)"
   ]
  },
  {
   "cell_type": "code",
   "execution_count": 219,
   "metadata": {
    "collapsed": true
   },
   "outputs": [],
   "source": [
    "#df[df.ano_disciplina == 2016][df.periodo_disciplina == 2].head()"
   ]
  },
  {
   "cell_type": "code",
   "execution_count": 220,
   "metadata": {
    "collapsed": false
   },
   "outputs": [
    {
     "data": {
      "text/plain": [
       "<matplotlib.axes._subplots.AxesSubplot at 0x1779db0b9e8>"
      ]
     },
     "execution_count": 220,
     "metadata": {},
     "output_type": "execute_result"
    },
    {
     "data": {
      "image/png": "[encoded data removed]",
      "text/plain": [
       "<matplotlib.figure.Figure at 0x1779e345630>"
      ]
     },
     "metadata": {},
     "output_type": "display_data"
    }
   ],
   "source": [
    "df[df.ano_disciplina == 2016][df.periodo_disciplina == 1][df.disciplina_ID == 5][\"nota\"].plot.box(by=None, grid=True)"
   ]
  },
  {
   "cell_type": "code",
   "execution_count": 221,
   "metadata": {
    "collapsed": false
   },
   "outputs": [
    {
     "data": {
      "text/plain": [
       "<matplotlib.axes._subplots.AxesSubplot at 0x1779d49aa90>"
      ]
     },
     "execution_count": 221,
     "metadata": {},
     "output_type": "execute_result"
    },
    {
     "data": {
      "image/png": "[encoded data removed]",
      "text/plain": [
       "<matplotlib.figure.Figure at 0x1779e3e5828>"
      ]
     },
     "metadata": {},
     "output_type": "display_data"
    }
   ],
   "source": [
    "df[df.ano_disciplina == 2016][df.periodo_disciplina == 2][df.disciplina_ID == 3][\"nota\"].plot.box(by=None, grid=True)"
   ]
  },
  {
   "cell_type": "code",
   "execution_count": 222,
   "metadata": {
    "collapsed": true
   },
   "outputs": [],
   "source": [
    "from sklearn import linear_model\n",
    "import matplotlib.pyplot as plt\n",
    "from scipy.stats import pearsonr\n",
    "allPeriod = []\n",
    "person = []  \n",
    "person2 = []\n",
    "disciplineID = []\n",
    "studentsFilter = []\n",
    "for ano in range(2014, 2017):\n",
    "    for semestre in range(1, 3):\n",
    "        studentsFilter = df[df.ano_disciplina == ano][df.periodo_disciplina == semestre][df.disciplina_ID == 5][\"a_ID\"].unique()\n",
    "        classFilter = df[df.ano_disciplina == ano][df.periodo_disciplina == semestre]\n",
    "        for disId in range(0,7):\n",
    "            listKey = []\n",
    "            listRelative = []\n",
    "            for student in studentsFilter:\n",
    "                if not classFilter[classFilter.a_ID == student][classFilter.disciplina_ID == disId][\"nota\"].empty:\n",
    "                    listKey.append(classFilter[classFilter.a_ID == student][classFilter.disciplina_ID == 5][\"nota\"].values)\n",
    "                    listRelative.append(classFilter[classFilter.a_ID == student][classFilter.disciplina_ID == disId][\"nota\"].values)\n",
    "            disciplineID.append(disId)\n",
    "            allPeriod.append(str(ano)+\".\"+str(semestre))\n",
    "            person.append(pearsonr(listKey, listRelative)[0])\n",
    "            person2.append((pearsonr(listKey, listRelative)[0]**2)*100)"
   ]
  },
  {
   "cell_type": "markdown",
   "metadata": {},
   "source": [
    "Foi usado o **Coeficiente de correlação de Pearson** para verificar a correlação da nota da **disciplina5** com as outras que o aluno está cursando no mesmo semestre.<br>\n",
    "Não tendo uma regularidade nos resultados, não podemos afirmar que exista um correlação linear entre as disciplinas analisadas.<br>\n",
    "É possível que existam variáveis ocultas que estão interferindo nos valores, como dedicação dos alunos, material didático, habilidades de ensino dos professores e outros."
   ]
  },
  {
   "cell_type": "code",
   "execution_count": 223,
   "metadata": {
    "collapsed": false
   },
   "outputs": [
    {
     "data": {
      "text/html": [
       "<div>\n",
       "<table border=\"1\" class=\"dataframe\">\n",
       "  <thead>\n",
       "    <tr style=\"text-align: right;\">\n",
       "      <th></th>\n",
       "      <th>anoSemestre</th>\n",
       "      <th>disciplineID</th>\n",
       "      <th>person</th>\n",
       "      <th>person²</th>\n",
       "    </tr>\n",
       "  </thead>\n",
       "  <tbody>\n",
       "    <tr>\n",
       "      <th>15</th>\n",
       "      <td>2015.1</td>\n",
       "      <td>1</td>\n",
       "      <td>[0.267057499352]</td>\n",
       "      <td>[7.13197079602]</td>\n",
       "    </tr>\n",
       "    <tr>\n",
       "      <th>9</th>\n",
       "      <td>2014.2</td>\n",
       "      <td>2</td>\n",
       "      <td>[0.28116154]</td>\n",
       "      <td>[7.90518115753]</td>\n",
       "    </tr>\n",
       "    <tr>\n",
       "      <th>17</th>\n",
       "      <td>2015.1</td>\n",
       "      <td>3</td>\n",
       "      <td>[0.38600875565]</td>\n",
       "      <td>[14.9002759439]</td>\n",
       "    </tr>\n",
       "    <tr>\n",
       "      <th>14</th>\n",
       "      <td>2015.1</td>\n",
       "      <td>0</td>\n",
       "      <td>[0.387778798555]</td>\n",
       "      <td>[15.0372396609]</td>\n",
       "    </tr>\n",
       "    <tr>\n",
       "      <th>11</th>\n",
       "      <td>2014.2</td>\n",
       "      <td>4</td>\n",
       "      <td>[0.399901984754]</td>\n",
       "      <td>[15.992159741]</td>\n",
       "    </tr>\n",
       "    <tr>\n",
       "      <th>0</th>\n",
       "      <td>2014.1</td>\n",
       "      <td>0</td>\n",
       "      <td>[0.468655954707]</td>\n",
       "      <td>[21.9638403882]</td>\n",
       "    </tr>\n",
       "    <tr>\n",
       "      <th>20</th>\n",
       "      <td>2015.1</td>\n",
       "      <td>6</td>\n",
       "      <td>[0.472822324856]</td>\n",
       "      <td>[22.3560950882]</td>\n",
       "    </tr>\n",
       "    <tr>\n",
       "      <th>32</th>\n",
       "      <td>2016.1</td>\n",
       "      <td>4</td>\n",
       "      <td>[0.489136010932]</td>\n",
       "      <td>[23.9254037191]</td>\n",
       "    </tr>\n",
       "    <tr>\n",
       "      <th>25</th>\n",
       "      <td>2015.2</td>\n",
       "      <td>4</td>\n",
       "      <td>[0.493763186376]</td>\n",
       "      <td>[24.380208422]</td>\n",
       "    </tr>\n",
       "    <tr>\n",
       "      <th>39</th>\n",
       "      <td>2016.2</td>\n",
       "      <td>4</td>\n",
       "      <td>[0.560699375025]</td>\n",
       "      <td>[31.4383789154]</td>\n",
       "    </tr>\n",
       "    <tr>\n",
       "      <th>28</th>\n",
       "      <td>2016.1</td>\n",
       "      <td>0</td>\n",
       "      <td>[0.586983237993]</td>\n",
       "      <td>[34.4549321685]</td>\n",
       "    </tr>\n",
       "    <tr>\n",
       "      <th>35</th>\n",
       "      <td>2016.2</td>\n",
       "      <td>0</td>\n",
       "      <td>[0.603025642231]</td>\n",
       "      <td>[36.3639925189]</td>\n",
       "    </tr>\n",
       "    <tr>\n",
       "      <th>16</th>\n",
       "      <td>2015.1</td>\n",
       "      <td>2</td>\n",
       "      <td>[0.62061531425]</td>\n",
       "      <td>[38.5163368282]</td>\n",
       "    </tr>\n",
       "    <tr>\n",
       "      <th>27</th>\n",
       "      <td>2015.2</td>\n",
       "      <td>6</td>\n",
       "      <td>[0.624358399265]</td>\n",
       "      <td>[38.9823410733]</td>\n",
       "    </tr>\n",
       "    <tr>\n",
       "      <th>1</th>\n",
       "      <td>2014.1</td>\n",
       "      <td>1</td>\n",
       "      <td>[0.629617572551]</td>\n",
       "      <td>[39.6418287665]</td>\n",
       "    </tr>\n",
       "    <tr>\n",
       "      <th>8</th>\n",
       "      <td>2014.2</td>\n",
       "      <td>1</td>\n",
       "      <td>[0.642538969779]</td>\n",
       "      <td>[41.2856327685]</td>\n",
       "    </tr>\n",
       "    <tr>\n",
       "      <th>13</th>\n",
       "      <td>2014.2</td>\n",
       "      <td>6</td>\n",
       "      <td>[0.663623865002]</td>\n",
       "      <td>[44.0396634201]</td>\n",
       "    </tr>\n",
       "    <tr>\n",
       "      <th>41</th>\n",
       "      <td>2016.2</td>\n",
       "      <td>6</td>\n",
       "      <td>[0.697620700116]</td>\n",
       "      <td>[48.6674641231]</td>\n",
       "    </tr>\n",
       "    <tr>\n",
       "      <th>31</th>\n",
       "      <td>2016.1</td>\n",
       "      <td>3</td>\n",
       "      <td>[0.704132245131]</td>\n",
       "      <td>[49.5802218634]</td>\n",
       "    </tr>\n",
       "    <tr>\n",
       "      <th>34</th>\n",
       "      <td>2016.1</td>\n",
       "      <td>6</td>\n",
       "      <td>[0.716757429658]</td>\n",
       "      <td>[51.3741212971]</td>\n",
       "    </tr>\n",
       "    <tr>\n",
       "      <th>21</th>\n",
       "      <td>2015.2</td>\n",
       "      <td>0</td>\n",
       "      <td>[0.745531933908]</td>\n",
       "      <td>[55.5817864476]</td>\n",
       "    </tr>\n",
       "    <tr>\n",
       "      <th>29</th>\n",
       "      <td>2016.1</td>\n",
       "      <td>1</td>\n",
       "      <td>[0.748618973011]</td>\n",
       "      <td>[56.0430366752]</td>\n",
       "    </tr>\n",
       "    <tr>\n",
       "      <th>7</th>\n",
       "      <td>2014.2</td>\n",
       "      <td>0</td>\n",
       "      <td>[0.764873527407]</td>\n",
       "      <td>[58.5031512928]</td>\n",
       "    </tr>\n",
       "    <tr>\n",
       "      <th>10</th>\n",
       "      <td>2014.2</td>\n",
       "      <td>3</td>\n",
       "      <td>[0.772043824064]</td>\n",
       "      <td>[59.6051666275]</td>\n",
       "    </tr>\n",
       "    <tr>\n",
       "      <th>38</th>\n",
       "      <td>2016.2</td>\n",
       "      <td>3</td>\n",
       "      <td>[0.772867683885]</td>\n",
       "      <td>[59.7324456794]</td>\n",
       "    </tr>\n",
       "    <tr>\n",
       "      <th>24</th>\n",
       "      <td>2015.2</td>\n",
       "      <td>3</td>\n",
       "      <td>[0.848964769561]</td>\n",
       "      <td>[72.0741179955]</td>\n",
       "    </tr>\n",
       "    <tr>\n",
       "      <th>3</th>\n",
       "      <td>2014.1</td>\n",
       "      <td>3</td>\n",
       "      <td>[0.88716437582]</td>\n",
       "      <td>[78.7060629725]</td>\n",
       "    </tr>\n",
       "    <tr>\n",
       "      <th>36</th>\n",
       "      <td>2016.2</td>\n",
       "      <td>1</td>\n",
       "      <td>[-0.937185087117]</td>\n",
       "      <td>[87.8315887514]</td>\n",
       "    </tr>\n",
       "    <tr>\n",
       "      <th>6</th>\n",
       "      <td>2014.1</td>\n",
       "      <td>6</td>\n",
       "      <td>[0.938342894493]</td>\n",
       "      <td>[88.0487387645]</td>\n",
       "    </tr>\n",
       "    <tr>\n",
       "      <th>19</th>\n",
       "      <td>2015.1</td>\n",
       "      <td>5</td>\n",
       "      <td>[1.0]</td>\n",
       "      <td>[100.0]</td>\n",
       "    </tr>\n",
       "    <tr>\n",
       "      <th>5</th>\n",
       "      <td>2014.1</td>\n",
       "      <td>5</td>\n",
       "      <td>[1.0]</td>\n",
       "      <td>[100.0]</td>\n",
       "    </tr>\n",
       "    <tr>\n",
       "      <th>33</th>\n",
       "      <td>2016.1</td>\n",
       "      <td>5</td>\n",
       "      <td>[1.0]</td>\n",
       "      <td>[100.0]</td>\n",
       "    </tr>\n",
       "    <tr>\n",
       "      <th>26</th>\n",
       "      <td>2015.2</td>\n",
       "      <td>5</td>\n",
       "      <td>[1.0]</td>\n",
       "      <td>[100.0]</td>\n",
       "    </tr>\n",
       "    <tr>\n",
       "      <th>2</th>\n",
       "      <td>2014.1</td>\n",
       "      <td>2</td>\n",
       "      <td>[1.0]</td>\n",
       "      <td>[100.0]</td>\n",
       "    </tr>\n",
       "    <tr>\n",
       "      <th>22</th>\n",
       "      <td>2015.2</td>\n",
       "      <td>1</td>\n",
       "      <td>-1</td>\n",
       "      <td>100</td>\n",
       "    </tr>\n",
       "    <tr>\n",
       "      <th>12</th>\n",
       "      <td>2014.2</td>\n",
       "      <td>5</td>\n",
       "      <td>[1.0]</td>\n",
       "      <td>[100.0]</td>\n",
       "    </tr>\n",
       "    <tr>\n",
       "      <th>40</th>\n",
       "      <td>2016.2</td>\n",
       "      <td>5</td>\n",
       "      <td>[1.0]</td>\n",
       "      <td>[100.0]</td>\n",
       "    </tr>\n",
       "    <tr>\n",
       "      <th>4</th>\n",
       "      <td>2014.1</td>\n",
       "      <td>4</td>\n",
       "      <td>NaN</td>\n",
       "      <td>NaN</td>\n",
       "    </tr>\n",
       "    <tr>\n",
       "      <th>18</th>\n",
       "      <td>2015.1</td>\n",
       "      <td>4</td>\n",
       "      <td>NaN</td>\n",
       "      <td>NaN</td>\n",
       "    </tr>\n",
       "    <tr>\n",
       "      <th>23</th>\n",
       "      <td>2015.2</td>\n",
       "      <td>2</td>\n",
       "      <td>NaN</td>\n",
       "      <td>NaN</td>\n",
       "    </tr>\n",
       "    <tr>\n",
       "      <th>30</th>\n",
       "      <td>2016.1</td>\n",
       "      <td>2</td>\n",
       "      <td>NaN</td>\n",
       "      <td>NaN</td>\n",
       "    </tr>\n",
       "    <tr>\n",
       "      <th>37</th>\n",
       "      <td>2016.2</td>\n",
       "      <td>2</td>\n",
       "      <td>NaN</td>\n",
       "      <td>NaN</td>\n",
       "    </tr>\n",
       "  </tbody>\n",
       "</table>\n",
       "</div>"
      ],
      "text/plain": [
       "   anoSemestre  disciplineID             person          person²\n",
       "15      2015.1             1   [0.267057499352]  [7.13197079602]\n",
       "9       2014.2             2       [0.28116154]  [7.90518115753]\n",
       "17      2015.1             3    [0.38600875565]  [14.9002759439]\n",
       "14      2015.1             0   [0.387778798555]  [15.0372396609]\n",
       "11      2014.2             4   [0.399901984754]   [15.992159741]\n",
       "0       2014.1             0   [0.468655954707]  [21.9638403882]\n",
       "20      2015.1             6   [0.472822324856]  [22.3560950882]\n",
       "32      2016.1             4   [0.489136010932]  [23.9254037191]\n",
       "25      2015.2             4   [0.493763186376]   [24.380208422]\n",
       "39      2016.2             4   [0.560699375025]  [31.4383789154]\n",
       "28      2016.1             0   [0.586983237993]  [34.4549321685]\n",
       "35      2016.2             0   [0.603025642231]  [36.3639925189]\n",
       "16      2015.1             2    [0.62061531425]  [38.5163368282]\n",
       "27      2015.2             6   [0.624358399265]  [38.9823410733]\n",
       "1       2014.1             1   [0.629617572551]  [39.6418287665]\n",
       "8       2014.2             1   [0.642538969779]  [41.2856327685]\n",
       "13      2014.2             6   [0.663623865002]  [44.0396634201]\n",
       "41      2016.2             6   [0.697620700116]  [48.6674641231]\n",
       "31      2016.1             3   [0.704132245131]  [49.5802218634]\n",
       "34      2016.1             6   [0.716757429658]  [51.3741212971]\n",
       "21      2015.2             0   [0.745531933908]  [55.5817864476]\n",
       "29      2016.1             1   [0.748618973011]  [56.0430366752]\n",
       "7       2014.2             0   [0.764873527407]  [58.5031512928]\n",
       "10      2014.2             3   [0.772043824064]  [59.6051666275]\n",
       "38      2016.2             3   [0.772867683885]  [59.7324456794]\n",
       "24      2015.2             3   [0.848964769561]  [72.0741179955]\n",
       "3       2014.1             3    [0.88716437582]  [78.7060629725]\n",
       "36      2016.2             1  [-0.937185087117]  [87.8315887514]\n",
       "6       2014.1             6   [0.938342894493]  [88.0487387645]\n",
       "19      2015.1             5              [1.0]          [100.0]\n",
       "5       2014.1             5              [1.0]          [100.0]\n",
       "33      2016.1             5              [1.0]          [100.0]\n",
       "26      2015.2             5              [1.0]          [100.0]\n",
       "2       2014.1             2              [1.0]          [100.0]\n",
       "22      2015.2             1                 -1              100\n",
       "12      2014.2             5              [1.0]          [100.0]\n",
       "40      2016.2             5              [1.0]          [100.0]\n",
       "4       2014.1             4                NaN              NaN\n",
       "18      2015.1             4                NaN              NaN\n",
       "23      2015.2             2                NaN              NaN\n",
       "30      2016.1             2                NaN              NaN\n",
       "37      2016.2             2                NaN              NaN"
      ]
     },
     "execution_count": 223,
     "metadata": {},
     "output_type": "execute_result"
    }
   ],
   "source": [
    "df_person = pd.DataFrame({\n",
    "        'anoSemestre': allPeriod,\n",
    "        'person': person,\n",
    "        'person²': person2, \n",
    "        'disciplineID' : disciplineID})\n",
    "df_person.sort(['person²'])"
   ]
  },
  {
   "cell_type": "code",
   "execution_count": 224,
   "metadata": {
    "collapsed": false
   },
   "outputs": [
    {
     "name": "stdout",
     "output_type": "stream",
     "text": [
      "107\n",
      "219\n",
      "7\n",
      "17\n",
      "32\n",
      "124\n",
      "126\n",
      "161\n",
      "135\n",
      "297\n",
      "520\n"
     ]
    }
   ],
   "source": [
    "from sklearn import linear_model\n",
    "import matplotlib.pyplot as plt\n",
    "from scipy.stats import pearsonr\n",
    "allPeriod = []\n",
    "person = []  \n",
    "person2 = []\n",
    "disciplineID = []\n",
    "studentsFilter = []\n",
    "for ano in range(2014, 2016):\n",
    "    for semestre in range(1, 3):\n",
    "        studentsFilter = df[df.ano_disciplina == ano][df.periodo_disciplina == semestre][df.disciplina_ID == 5][\"a_ID\"].unique()\n",
    "        classFilter = df[df.ano_disciplina == ano][df.periodo_disciplina == semestre]\n",
    "        for disId in range(2,3):\n",
    "            listKey = []\n",
    "            listRelative = []\n",
    "            for student in studentsFilter:\n",
    "                if not classFilter[classFilter.a_ID == student][classFilter.disciplina_ID == disId][\"nota\"].empty:\n",
    "                    print(student) #estudantes que estão magicamente pagando dis3 e dis5\n",
    "                    listKey.append(classFilter[classFilter.a_ID == student][classFilter.disciplina_ID == 5][\"nota\"].values)\n",
    "                    listRelative.append(classFilter[classFilter.a_ID == student][classFilter.disciplina_ID == disId][\"nota\"].values)\n",
    "      \n",
    "            disciplineID.append(disId)\n",
    "            allPeriod.append(str(ano)+\".\"+str(semestre))\n",
    "            person.append(pearsonr(listKey, listRelative)[0])\n",
    "            person2.append((pearsonr(listKey, listRelative)[0]**2)*100)\n",
    "            \n",
    "df_person = pd.DataFrame({\n",
    "        'anoSemestre': allPeriod,\n",
    "        'person': person,\n",
    "        'person2': person2, \n",
    "        'disciplineID' : disciplineID})\n",
    "#df_person.sort(['person2'])"
   ]
  },
  {
   "cell_type": "code",
   "execution_count": 225,
   "metadata": {
    "collapsed": true
   },
   "outputs": [],
   "source": [
    "#df[df.a_ID == 219]"
   ]
  }
 ],
 "metadata": {
  "kernelspec": {
   "display_name": "Python 3",
   "language": "python",
   "name": "python3"
  },
  "language_info": {
   "codemirror_mode": {
    "name": "ipython",
    "version": 3
   },
   "file_extension": ".py",
   "mimetype": "text/x-python",
   "name": "python",
   "nbconvert_exporter": "python",
   "pygments_lexer": "ipython3",
   "version": "3.6.0"
  }
 },
 "nbformat": 4,
 "nbformat_minor": 2
}
